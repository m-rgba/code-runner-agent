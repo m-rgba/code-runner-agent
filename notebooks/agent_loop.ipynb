{
 "cells": [
  {
   "cell_type": "code",
   "execution_count": null,
   "id": "6e563cc7-4746-4cef-a6fb-aa4c1b80ed84",
   "metadata": {},
   "outputs": [],
   "source": [
    "!pip install tiktoken==0.8.0 wandb==0.19.6 weave==0.51.33 docker==7.1.0 openai==1.61.1"
   ]
  },
  {
   "cell_type": "code",
   "execution_count": null,
   "id": "e1109ed9-4c0d-4838-800a-8c8478110bd5",
   "metadata": {},
   "outputs": [],
   "source": [
    "import os\n",
    "import asyncio\n",
    "import docker\n",
    "from openai import OpenAI\n",
    "import wandb\n",
    "import weave"
   ]
  },
  {
   "cell_type": "code",
   "execution_count": null,
   "id": "e71ae08f",
   "metadata": {},
   "outputs": [],
   "source": [
    "openai_client = OpenAI()"
   ]
  },
  {
   "cell_type": "code",
   "execution_count": null,
   "id": "5228dd81-0b73-46ce-a193-eb1274c5caa6",
   "metadata": {},
   "outputs": [],
   "source": [
    "async def create_container(docker_client):\n",
    "    container_name = \"nbtest_wandb\"\n",
    "    try:\n",
    "        container = docker_client.containers.get(container_name)\n",
    "    except docker.errors.NotFound:\n",
    "        # Ensure network exists\n",
    "        network_name = \"wandb_network\"\n",
    "        try:\n",
    "            network = docker_client.networks.get(network_name)\n",
    "        except docker.errors.NotFound:\n",
    "            network = docker_client.networks.create(network_name)\n",
    "    \n",
    "        # Create container\n",
    "        container = docker_client.containers.run(\n",
    "            image=\"code-runner-client\",\n",
    "            name=container_name,\n",
    "            shm_size=\"512mb\",\n",
    "            restart_policy={\"Name\": \"unless-stopped\"},\n",
    "            network=network_name,\n",
    "            detach=True,\n",
    "            command=[\"/bin/sh\", \"-c\", \"sleep infinity\"],\n",
    "        )\n",
    "        await asyncio.sleep(3)\n",
    "    \n",
    "    return container"
   ]
  },
  {
   "cell_type": "code",
   "execution_count": null,
   "id": "1b55a5ec-f160-4c94-8a30-2497d3bae9c6",
   "metadata": {},
   "outputs": [],
   "source": [
    "async def run_container_command(container):\n",
    "    exec_result = container.exec_run(\n",
    "        cmd=[\"python\", \"-c\", \"print('Hello, World!')\"], stdout=True, stderr=True\n",
    "    )\n",
    "    return exec_result.output.decode(\"utf-8\")"
   ]
  },
  {
   "cell_type": "code",
   "execution_count": null,
   "id": "20f778fe",
   "metadata": {},
   "outputs": [],
   "source": [
    "async def run_openai_command():\n",
    "    oai_response = openai_client.chat.completions.create(\n",
    "        model=\"gpt-3.5-turbo\",\n",
    "        messages=[\n",
    "            {\n",
    "                \"role\": \"system\",\n",
    "                \"content\": \"You are a helpful assistant.\",\n",
    "            },\n",
    "            {\"role\": \"user\", \"content\": \"Please help me createt he following task...\"},\n",
    "        ],\n",
    "        temperature=0.7,\n",
    "        max_tokens=1500\n",
    "    )\n",
    "    completion_response = oai_response.choices[0].message.content\n",
    "    return completion_response"
   ]
  },
  {
   "cell_type": "code",
   "execution_count": null,
   "id": "cdb75f23-0b6a-4990-b4ec-2b0fb262841b",
   "metadata": {},
   "outputs": [],
   "source": [
    "async def main():\n",
    "    task = \"\"\n",
    "    docker_client = docker.from_env()\n",
    "    container = await create_container(docker_client)\n",
    "    completion = await run_openai_command()        \n",
    "    result = await run_container_command(container)\n",
    "    output = f\"\"\"\n",
    "Command output:\n",
    "{result.strip()}\n",
    "---\n",
    "OpenAI output:\n",
    "{completion.strip()}\n",
    "    \"\"\".strip()\n",
    "    print(output)\n",
    "await main()"
   ]
  }
 ],
 "metadata": {
  "kernelspec": {
   "display_name": "Python 3 (ipykernel)",
   "language": "python",
   "name": "python3"
  },
  "language_info": {
   "codemirror_mode": {
    "name": "ipython",
    "version": 3
   },
   "file_extension": ".py",
   "mimetype": "text/x-python",
   "name": "python",
   "nbconvert_exporter": "python",
   "pygments_lexer": "ipython3",
   "version": "3.12.8"
  }
 },
 "nbformat": 4,
 "nbformat_minor": 5
}
